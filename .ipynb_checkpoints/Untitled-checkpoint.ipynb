{
 "cells": [
  {
   "cell_type": "code",
   "execution_count": 379,
   "metadata": {},
   "outputs": [],
   "source": [
    "import matplotlib.pyplot as plt\n",
    "%matplotlib widget\n",
    "\n",
    "import numpy as np\n",
    "import itertools\n"
   ]
  },
  {
   "cell_type": "code",
   "execution_count": 2,
   "metadata": {},
   "outputs": [
    {
     "data": {
      "text/plain": [
       "[1.0,\n",
       " 0.5,\n",
       " 0.4,\n",
       " 0.3448275862068965,\n",
       " 0.308182784272051,\n",
       " 0.2814514723370198,\n",
       " 0.2607927894428116,\n",
       " 0.24418506046556618,\n",
       " 0.23044449763333147,\n",
       " 0.2188239260220141]"
      ]
     },
     "execution_count": 2,
     "metadata": {},
     "output_type": "execute_result"
    }
   ],
   "source": [
    "Ra = 1\n",
    "v0 = 1\n",
    "c0 = 1/v0\n",
    "\n",
    "ci = [c0]\n",
    "\n",
    "for i in np.arange(1,100):\n",
    "    ci.append(ci[i-1] / (1 + Ra*ci[i-1]**2))\n",
    "    \n",
    "ci[0:10]"
   ]
  },
  {
   "cell_type": "code",
   "execution_count": 3,
   "metadata": {},
   "outputs": [
    {
     "data": {
      "application/vnd.jupyter.widget-view+json": {
       "model_id": "63f41a3b842149ed84fb8115b4210893",
       "version_major": 2,
       "version_minor": 0
      },
      "text/plain": [
       "Canvas(toolbar=Toolbar(toolitems=[('Home', 'Reset original view', 'home', 'home'), ('Back', 'Back to previous …"
      ]
     },
     "metadata": {},
     "output_type": "display_data"
    }
   ],
   "source": [
    "%matplotlib widget\n",
    "\n",
    "s = 1/np.array(ci)\n",
    "t = np.cumsum(np.array(ci)).T - ci[0]\n",
    "plt.step(t, s)\n",
    "\n",
    "\n",
    "plt.grid()\n",
    "plt.show()"
   ]
  },
  {
   "cell_type": "code",
   "execution_count": 4,
   "metadata": {},
   "outputs": [],
   "source": [
    "Rd = -1\n",
    "v0 = 14\n",
    "c0 = 1/v0\n",
    "\n",
    "ci = [c0]\n",
    "\n",
    "for i in np.arange(1,100):\n",
    "    ci.append(ci[i-1] / (1 + Rd*ci[i-1]**2))"
   ]
  },
  {
   "cell_type": "code",
   "execution_count": 5,
   "metadata": {},
   "outputs": [
    {
     "data": {
      "application/vnd.jupyter.widget-view+json": {
       "model_id": "c08d99f103914ee69defdec45518fbd3",
       "version_major": 2,
       "version_minor": 0
      },
      "text/plain": [
       "Canvas(toolbar=Toolbar(toolitems=[('Home', 'Reset original view', 'home', 'home'), ('Back', 'Back to previous …"
      ]
     },
     "metadata": {},
     "output_type": "display_data"
    }
   ],
   "source": [
    "%matplotlib widget\n",
    "\n",
    "s = 1/np.array(ci)\n",
    "t = np.cumsum(np.array(ci)).T - ci[0]\n",
    "plt.step(t, s)\n",
    "\n",
    "\n",
    "plt.grid()\n",
    "plt.show()"
   ]
  },
  {
   "cell_type": "code",
   "execution_count": 156,
   "metadata": {},
   "outputs": [],
   "source": [
    "Ra = 0.5\n",
    "Rd = -1\n",
    "vm = 5\n",
    "\n",
    "v0 = 0.5\n",
    "c0 = 1/v0\n",
    "v = v0\n",
    "ve = 0.5\n",
    "\n",
    "ci = [c0]\n",
    "\n",
    "i = 1\n",
    "while v < vm:    \n",
    "    c = ci[i-1] / (1 + Ra*ci[i-1]**2)\n",
    "    v = 1/c    \n",
    "    if v >= vm:\n",
    "        c = 1/vm\n",
    "        v = vm    \n",
    "    ci.append(c)\n",
    "    i += 1\n",
    "\n",
    "for ii in np.arange(10):    \n",
    "    ci.append(ci[-1])\n",
    "    i += 1\n",
    "    \n",
    "while v > ve:\n",
    "    c = ci[i-1] / (1 + Rd*ci[i-1]**2)\n",
    "    v = 1/c\n",
    "    if v <= ve:\n",
    "        c = 1/ve\n",
    "        v = ve\n",
    "    ci.append(c)\n",
    "    i += 1\n",
    "              "
   ]
  },
  {
   "cell_type": "code",
   "execution_count": 157,
   "metadata": {},
   "outputs": [
    {
     "data": {
      "application/vnd.jupyter.widget-view+json": {
       "model_id": "5c758e0c41ed4eedb116e74f8b9ce9f0",
       "version_major": 2,
       "version_minor": 0
      },
      "text/plain": [
       "Canvas(toolbar=Toolbar(toolitems=[('Home', 'Reset original view', 'home', 'home'), ('Back', 'Back to previous …"
      ]
     },
     "metadata": {},
     "output_type": "display_data"
    }
   ],
   "source": [
    "%matplotlib widget\n",
    "\n",
    "s = 1/np.array(ci)\n",
    "t = np.cumsum(np.array(ci)).T - ci[0]\n",
    "\n",
    "ax1 = plt.subplot2grid((4,1), (0,0), rowspan=3)\n",
    "ax2 = plt.subplot2grid((4,1), (3,0))\n",
    "\n",
    "ax1.step(t, s)\n",
    "ax1.set_ylabel(\"v\")\n",
    "ax2.set_xlabel(\"t\")\n",
    "\n",
    "ax2.stem(t, np.ones(t.shape))\n",
    "\n",
    "ax1.grid()\n",
    "\n",
    "plt.tight_layout()\n",
    "plt.show()"
   ]
  },
  {
   "cell_type": "markdown",
   "metadata": {},
   "source": [
    "### https://titania.eng.monash.edu/papers/pj-stepper-motor-control.pdf"
   ]
  },
  {
   "cell_type": "code",
   "execution_count": 411,
   "metadata": {},
   "outputs": [],
   "source": [
    "def f_cn(cm, n, vi, a, alpha):\n",
    "    return cm - 2*alpha*a*cm/(2*vi**2 + alpha*a*(4*n + 1))\n",
    "\n",
    "def f_c0(f, vi, a, alpha):\n",
    "    return f/np.abs(a) * (-np.abs(vi) + np.sqrt(np.abs(vi)**2 + 2*np.abs(a)*alpha))\n",
    "\n",
    "def ramp(n, cm, d, cmax, a, vi, alpha):\n",
    "    if (vi == 0):\n",
    "        a_sign = 1\n",
    "    else:\n",
    "        a_sign = np.sign(vi)\n",
    "    cn = cm - 2*alpha*a*a_sign*cm/(2*vi**2 + alpha*a*a_sign*(4*n + 1))\n",
    "    v = 1/cn * d\n",
    "    if cn > cmax:\n",
    "        cmax = np.inf\n",
    "        d = -d\n",
    "        v = 0\n",
    "    return cn, v, d, cmax\n",
    "\n",
    "def ramp_gen(f, alpha, a, vi):\n",
    "    if vi == 0:\n",
    "        di = np.sign(a)\n",
    "        a_sign = 1\n",
    "    else:\n",
    "        di = np.sign(vi)\n",
    "        a_sign = np.sign(vi)\n",
    "        \n",
    "    n = 0\n",
    "    c = f_c0(f, vi, a, alpha)\n",
    "    cmax = f_c0(f, 0, a, alpha)\n",
    "    d = di\n",
    "    v = vi\n",
    "    x = d\n",
    "        \n",
    "    while True:\n",
    "        yield c, v, d, x\n",
    "        n += 1\n",
    "        c = c - 2*alpha*a*a_sign*c/(2*vi**2 + alpha*a*a_sign*(4*n + 1))\n",
    "        v = 1/c * d\n",
    "        x += d\n",
    "        if c > cmax:\n",
    "            cmax = np.inf\n",
    "            d = -d\n",
    "            v = 0\n",
    "    \n",
    "\n",
    "\n",
    "def ramp_to_speed_gen(f, alpha, amax, vi, vt):\n",
    "    v = vi\n",
    "    if vi < vt:\n",
    "        a = amax\n",
    "        rampg = ramp_gen(f, alpha, a, vi)\n",
    "        while True:\n",
    "            c, v, d, x = next(rampg)\n",
    "            if v > vt:\n",
    "                break;\n",
    "            yield c, v, d, x\n",
    "        \n",
    "    elif vi > vt:\n",
    "        a = -amax\n",
    "        rampg = ramp_gen(f, alpha, a, vi)\n",
    "        while True:\n",
    "            c, v, d, x = next(rampg)\n",
    "            if v < vt:\n",
    "                break;\n",
    "            yield c, v, d, x\n",
    "            \n",
    "    else:\n",
    "        return None\n",
    "    \n",
    "    v = vt\n",
    "    c = 1/np.abs(v)\n",
    "    d = np.sign(v)\n",
    "    while True:\n",
    "        x += d\n",
    "        yield c, v, d, x\n",
    "        \n",
    "    \n",
    "    \n",
    "\n",
    "        "
   ]
  },
  {
   "cell_type": "code",
   "execution_count": 395,
   "metadata": {},
   "outputs": [],
   "source": [
    "def plot_plan(cn_arr, v_arr, d_arr, x_arr):\n",
    "    %matplotlib widget\n",
    "\n",
    "    t = np.cumsum(np.array(cn_arr)).T - cn_arr[0]\n",
    "\n",
    "    fig = plt.figure()\n",
    "    ax1 = plt.subplot2grid((6,1), (0,0), rowspan=3)\n",
    "    ax2 = plt.subplot2grid((6,1), (3,0), sharex=ax1)\n",
    "    ax3 = plt.subplot2grid((6,1), (4,0), sharex=ax1)\n",
    "    ax4 = plt.subplot2grid((6,1), (5,0), sharex=ax1)\n",
    "\n",
    "    ax1.step(t, v_arr)\n",
    "    ax1.set_ylabel(\"|v|\")\n",
    "\n",
    "    ax2.step(t, d_arr)\n",
    "    ax2.set_ylabel(\"d\")\n",
    "\n",
    "    ax3.step(t, x_arr)\n",
    "    ax3.set_ylabel(\"x\")\n",
    "\n",
    "    ax4.stem(t, np.ones(t.shape))\n",
    "    ax4.set_xlabel(\"t\")\n",
    "\n",
    "    ax1.grid()\n",
    "\n",
    "    plt.tight_layout()\n",
    "    fig.subplots_adjust(hspace=0)   \n",
    "\n",
    "    plt.show()"
   ]
  },
  {
   "cell_type": "code",
   "execution_count": 399,
   "metadata": {},
   "outputs": [
    {
     "data": {
      "application/vnd.jupyter.widget-view+json": {
       "model_id": "af216ef3dff24357bf6f9e08b429f351",
       "version_major": 2,
       "version_minor": 0
      },
      "text/plain": [
       "Canvas(toolbar=Toolbar(toolitems=[('Home', 'Reset original view', 'home', 'home'), ('Back', 'Back to previous …"
      ]
     },
     "metadata": {},
     "output_type": "display_data"
    }
   ],
   "source": [
    "f = 1\n",
    "alpha = 1\n",
    "a = 1\n",
    "vi = -5\n",
    "\n",
    "rampg = ramp_gen(f, alpha, a, vi)\n",
    "\n",
    "s = np.array(list(itertools.islice(rampg, 100)))\n",
    "plot_plan(s[:,0], s[:,1], s[:,2], s[:,3])"
   ]
  },
  {
   "cell_type": "code",
   "execution_count": 398,
   "metadata": {},
   "outputs": [
    {
     "data": {
      "application/vnd.jupyter.widget-view+json": {
       "model_id": "af5ef63f13bc4f9c929b1c1aee8e83c8",
       "version_major": 2,
       "version_minor": 0
      },
      "text/plain": [
       "Canvas(toolbar=Toolbar(toolitems=[('Home', 'Reset original view', 'home', 'home'), ('Back', 'Back to previous …"
      ]
     },
     "metadata": {},
     "output_type": "display_data"
    }
   ],
   "source": [
    "f = 1\n",
    "alpha = 1\n",
    "a = 1\n",
    "vi = 0\n",
    "\n",
    "rampg = ramp_gen(f, alpha, a, vi)\n",
    "\n",
    "s = np.array(list(itertools.islice(rampg, 100)))\n",
    "plot_plan(s[:,0], s[:,1], s[:,2], s[:,3])"
   ]
  },
  {
   "cell_type": "code",
   "execution_count": 397,
   "metadata": {},
   "outputs": [
    {
     "data": {
      "application/vnd.jupyter.widget-view+json": {
       "model_id": "798821d6635a4f698e8bd3b04610b604",
       "version_major": 2,
       "version_minor": 0
      },
      "text/plain": [
       "Canvas(toolbar=Toolbar(toolitems=[('Home', 'Reset original view', 'home', 'home'), ('Back', 'Back to previous …"
      ]
     },
     "metadata": {},
     "output_type": "display_data"
    }
   ],
   "source": [
    "f = 1\n",
    "alpha = 1\n",
    "a = -1\n",
    "vi = 0\n",
    "\n",
    "rampg = ramp_gen(f, alpha, a, vi)\n",
    "\n",
    "s = np.array(list(itertools.islice(rampg, 100)))\n",
    "plot_plan(s[:,0], s[:,1], s[:,2], s[:,3])"
   ]
  },
  {
   "cell_type": "code",
   "execution_count": 396,
   "metadata": {},
   "outputs": [
    {
     "data": {
      "application/vnd.jupyter.widget-view+json": {
       "model_id": "d7b5bd8bf8af4523ad6e9608be801c92",
       "version_major": 2,
       "version_minor": 0
      },
      "text/plain": [
       "Canvas(toolbar=Toolbar(toolitems=[('Home', 'Reset original view', 'home', 'home'), ('Back', 'Back to previous …"
      ]
     },
     "metadata": {},
     "output_type": "display_data"
    }
   ],
   "source": [
    "f = 1\n",
    "alpha = 1\n",
    "a = -1\n",
    "vi = 5\n",
    "\n",
    "rampg = ramp_gen(f, alpha, a, vi)\n",
    "\n",
    "s = np.array(list(itertools.islice(rampg, 100)))\n",
    "plot_plan(s[:,0], s[:,1], s[:,2], s[:,3])"
   ]
  },
  {
   "cell_type": "code",
   "execution_count": 409,
   "metadata": {},
   "outputs": [
    {
     "data": {
      "application/vnd.jupyter.widget-view+json": {
       "model_id": "fe0a803bd7e743ebb34d82993685cc23",
       "version_major": 2,
       "version_minor": 0
      },
      "text/plain": [
       "Canvas(toolbar=Toolbar(toolitems=[('Home', 'Reset original view', 'home', 'home'), ('Back', 'Back to previous …"
      ]
     },
     "metadata": {},
     "output_type": "display_data"
    }
   ],
   "source": [
    "f = 1\n",
    "alpha = 1\n",
    "amax = 1\n",
    "vi = -5\n",
    "vt = 5\n",
    "\n",
    "rtsg = ramp_to_speed_gen(f, alpha, amax, vi, vt)\n",
    "\n",
    "s = np.array(list(itertools.islice(rtsg, 100)))\n",
    "plot_plan(s[:,0], s[:,1], s[:,2], s[:,3])"
   ]
  },
  {
   "cell_type": "code",
   "execution_count": 412,
   "metadata": {},
   "outputs": [
    {
     "data": {
      "application/vnd.jupyter.widget-view+json": {
       "model_id": "df6dc4ad883d434aaeb4c6bc227c4b55",
       "version_major": 2,
       "version_minor": 0
      },
      "text/plain": [
       "Canvas(toolbar=Toolbar(toolitems=[('Home', 'Reset original view', 'home', 'home'), ('Back', 'Back to previous …"
      ]
     },
     "metadata": {},
     "output_type": "display_data"
    }
   ],
   "source": [
    "f = 1\n",
    "alpha = 1\n",
    "amax = 1\n",
    "vi = 5\n",
    "vt = -5\n",
    "\n",
    "rtsg = ramp_to_speed_gen(f, alpha, amax, vi, vt)\n",
    "\n",
    "s = np.array(list(itertools.islice(rtsg, 100)))\n",
    "plot_plan(s[:,0], s[:,1], s[:,2], s[:,3])"
   ]
  },
  {
   "cell_type": "code",
   "execution_count": null,
   "metadata": {},
   "outputs": [],
   "source": []
  }
 ],
 "metadata": {
  "kernelspec": {
   "display_name": "Python 3",
   "language": "python",
   "name": "python3"
  },
  "language_info": {
   "codemirror_mode": {
    "name": "ipython",
    "version": 3
   },
   "file_extension": ".py",
   "mimetype": "text/x-python",
   "name": "python",
   "nbconvert_exporter": "python",
   "pygments_lexer": "ipython3",
   "version": "3.8.5"
  }
 },
 "nbformat": 4,
 "nbformat_minor": 4
}
